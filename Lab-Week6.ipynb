{
 "cells": [
  {
   "cell_type": "code",
   "id": "c9b175cf-127c-487e-bf39-db6747ffe298",
   "metadata": {
    "ExecuteTime": {
     "end_time": "2025-03-13T21:02:02.609852Z",
     "start_time": "2025-03-13T21:01:56.863849Z"
    }
   },
   "source": [
    "name = input(\"What is your name?\")\n",
    "age = int(input(\"What is your age?\"))\n",
    "print(str(name) + \", on your next birthday, you will be \" + str(age +1) + \" years old.\")"
   ],
   "outputs": [
    {
     "name": "stdout",
     "output_type": "stream",
     "text": [
      "ayva, on your next birthday, you will be 22 years old.\n"
     ]
    }
   ],
   "execution_count": 1
  },
  {
   "metadata": {},
   "cell_type": "code",
   "outputs": [],
   "execution_count": null,
   "source": "# a second line",
   "id": "84e7e51ab079cbdc"
  }
 ],
 "metadata": {
  "kernelspec": {
   "display_name": "Python 3 (ipykernel)",
   "language": "python",
   "name": "python3"
  },
  "language_info": {
   "codemirror_mode": {
    "name": "ipython",
    "version": 3
   },
   "file_extension": ".py",
   "mimetype": "text/x-python",
   "name": "python",
   "nbconvert_exporter": "python",
   "pygments_lexer": "ipython3",
   "version": "3.11.5"
  }
 },
 "nbformat": 4,
 "nbformat_minor": 5
}
